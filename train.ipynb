{
  "nbformat": 4,
  "nbformat_minor": 0,
  "metadata": {
    "colab": {
      "provenance": [],
      "authorship_tag": "ABX9TyOAaNNbl7+8N3Koo5aKTnw4",
      "include_colab_link": true
    },
    "kernelspec": {
      "name": "python3",
      "display_name": "Python 3"
    },
    "language_info": {
      "name": "python"
    },
    "accelerator": "GPU"
  },
  "cells": [
    {
      "cell_type": "markdown",
      "metadata": {
        "id": "view-in-github",
        "colab_type": "text"
      },
      "source": [
        "<a href=\"https://colab.research.google.com/github/jdu8/underage-detection/blob/main/train.ipynb\" target=\"_parent\"><img src=\"https://colab.research.google.com/assets/colab-badge.svg\" alt=\"Open In Colab\"/></a>"
      ]
    },
    {
      "cell_type": "code",
      "execution_count": 1,
      "metadata": {
        "colab": {
          "base_uri": "https://localhost:8080/"
        },
        "id": "rTScgEYoyhsC",
        "outputId": "7d7fd894-a8a0-403c-93ec-babb8b22969e"
      },
      "outputs": [
        {
          "output_type": "stream",
          "name": "stdout",
          "text": [
            "Wed Sep 28 17:03:25 2022       \n",
            "+-----------------------------------------------------------------------------+\n",
            "| NVIDIA-SMI 460.32.03    Driver Version: 460.32.03    CUDA Version: 11.2     |\n",
            "|-------------------------------+----------------------+----------------------+\n",
            "| GPU  Name        Persistence-M| Bus-Id        Disp.A | Volatile Uncorr. ECC |\n",
            "| Fan  Temp  Perf  Pwr:Usage/Cap|         Memory-Usage | GPU-Util  Compute M. |\n",
            "|                               |                      |               MIG M. |\n",
            "|===============================+======================+======================|\n",
            "|   0  Tesla T4            Off  | 00000000:00:04.0 Off |                    0 |\n",
            "| N/A   38C    P8     9W /  70W |      0MiB / 15109MiB |      0%      Default |\n",
            "|                               |                      |                  N/A |\n",
            "+-------------------------------+----------------------+----------------------+\n",
            "                                                                               \n",
            "+-----------------------------------------------------------------------------+\n",
            "| Processes:                                                                  |\n",
            "|  GPU   GI   CI        PID   Type   Process name                  GPU Memory |\n",
            "|        ID   ID                                                   Usage      |\n",
            "|=============================================================================|\n",
            "|  No running processes found                                                 |\n",
            "+-----------------------------------------------------------------------------+\n"
          ]
        }
      ],
      "source": [
        "!nvidia-smi"
      ]
    },
    {
      "cell_type": "code",
      "source": [
        "!mkdir kaggle\n",
        "!mv kaggle.json kaggle/\n",
        "!chmod 600 kaggle/kaggle.json"
      ],
      "metadata": {
        "id": "A0b-Fi0Byq_l"
      },
      "execution_count": 5,
      "outputs": []
    },
    {
      "cell_type": "code",
      "source": [
        "!kaggle datasets download -d abhikjha/utk-face-cropped\n"
      ],
      "metadata": {
        "colab": {
          "base_uri": "https://localhost:8080/"
        },
        "id": "AiHJL0mdyq2C",
        "outputId": "d933823c-9262-48db-e0e5-5d5511dfd8fa"
      },
      "execution_count": 7,
      "outputs": [
        {
          "output_type": "stream",
          "name": "stdout",
          "text": [
            "Downloading utk-face-cropped.zip to /content\n",
            "100% 232M/232M [00:04<00:00, 87.9MB/s]\n",
            "100% 232M/232M [00:04<00:00, 59.3MB/s]\n"
          ]
        }
      ]
    },
    {
      "cell_type": "code",
      "source": [
        "!unzip utk-face-cropped.zip"
      ],
      "metadata": {
        "id": "s_4nF4dGyqq9"
      },
      "execution_count": null,
      "outputs": []
    },
    {
      "cell_type": "code",
      "source": [
        "import os\n",
        "import cv2\n",
        "from tqdm import tqdm\n",
        "import numpy as np"
      ],
      "metadata": {
        "id": "5aDXRr7Kyqjt"
      },
      "execution_count": 2,
      "outputs": []
    },
    {
      "cell_type": "code",
      "source": [
        "PATH='utkcropped/'\n",
        "x=[]\n",
        "y=[]\n",
        "for i in tqdm(os.listdir(PATH)):\n",
        "  if i!='utkcropped':\n",
        "    age=int(i.split(\"_\")[0])\n",
        "    temp_img=cv2.imread(PATH+i)\n",
        "    x.append(temp_img/255.0)\n",
        "    if age<18:\n",
        "      y.append(1)\n",
        "    else:\n",
        "      y.append(0)\n",
        "x=np.array(x)\n",
        "y=np.array(y)\n",
        "# x=x/255.0\n",
        "print(f\"Images Shape: {x.shape}\")\n",
        "print(f\"Labels Shape: {y.shape}\")"
      ],
      "metadata": {
        "colab": {
          "base_uri": "https://localhost:8080/"
        },
        "id": "sJfWkhwzyqbW",
        "outputId": "6e9ef966-9a58-478d-9769-048166e9480d"
      },
      "execution_count": null,
      "outputs": [
        {
          "output_type": "stream",
          "name": "stderr",
          "text": [
            " 53%|█████▎    | 12595/23710 [00:22<01:34, 117.28it/s]"
          ]
        }
      ]
    },
    {
      "cell_type": "code",
      "source": [
        "np.random.seed(69)\n",
        "np.random.shuffle(x)\n",
        "np.random.seed(69)\n",
        "np.random.shuffle(y)"
      ],
      "metadata": {
        "id": "Rms3K2xU1Ks5"
      },
      "execution_count": null,
      "outputs": []
    },
    {
      "cell_type": "code",
      "source": [
        "x_train=x[:int(len(x)*0.8)]\n",
        "x_test=x[int(len(x)*0.8):]\n",
        "y_train=y[:int(len(x)*0.8)]\n",
        "y_test=y[int(len(x)*0.8):]\n",
        "print(f\"X train Shape: {x_train.shape}\")\n",
        "print(f\"X text Shape: {x_test.shape}\")\n",
        "print(f\"Y train Shape: {y_train.shape}\")\n",
        "print(f\"Y test Shape: {y_test.shape}\")"
      ],
      "metadata": {
        "id": "Jv2RIP6e1Jcc"
      },
      "execution_count": null,
      "outputs": []
    },
    {
      "cell_type": "code",
      "source": [
        "import keras \n",
        "from keras.layers import Dense,Dropout,Flatten,Conv2D,MaxPooling2D"
      ],
      "metadata": {
        "id": "oyYdcsvRCVEh"
      },
      "execution_count": null,
      "outputs": []
    },
    {
      "cell_type": "code",
      "source": [
        "model = keras.models.Sequential()\n",
        "model.add(Conv2D(32, (3, 3), activation='relu', input_shape=(200, 200, 3)))\n",
        "model.add(MaxPooling2D((2, 2)))\n",
        "model.add(Conv2D(64, (3, 3), activation='relu'))\n",
        "model.add(MaxPooling2D((2, 2)))\n",
        "model.add(Conv2D(64, (3, 3), activation='relu'))\n",
        "model.add(MaxPooling2D((2, 2)))\n",
        "model.add(Flatten())\n",
        "model.add(Dropout(0.4))\n",
        "model.add(Dense(256,activation='relu'))\n",
        "model.add(Dropout(0.5))\n",
        "model.add(Dense(1,activation='sigmoid'))\n",
        "model.compile(loss = keras.losses.binary_crossentropy, optimizer = 'adam', metrics = ['accuracy'])"
      ],
      "metadata": {
        "id": "1hkhb4lK1JY-"
      },
      "execution_count": null,
      "outputs": []
    },
    {
      "cell_type": "code",
      "source": [
        "model.summary()"
      ],
      "metadata": {
        "id": "wrvK7byY1JVs"
      },
      "execution_count": null,
      "outputs": []
    },
    {
      "cell_type": "code",
      "source": [
        "history=model.fit(x_train,y_train,epochs=20,batch_size=128,validation_data=(x_test,y_test))"
      ],
      "metadata": {
        "id": "8P7EdhYx1JSX"
      },
      "execution_count": null,
      "outputs": []
    }
  ]
}